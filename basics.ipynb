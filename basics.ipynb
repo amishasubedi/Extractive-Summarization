{
 "cells": [
  {
   "cell_type": "code",
   "execution_count": 6,
   "id": "7fc33452",
   "metadata": {},
   "outputs": [
    {
     "name": "stdout",
     "output_type": "stream",
     "text": [
      "Windows-1252\n"
     ]
    }
   ],
   "source": [
    "import chardet\n",
    "\n",
    "with open('Chat.csv', 'rb') as f:\n",
    "    result = chardet.detect(f.read())\n",
    "\n",
    "print(result['encoding'])\n"
   ]
  },
  {
   "cell_type": "markdown",
   "id": "dd01251b",
   "metadata": {},
   "source": [
    "## Data Preprocessing  "
   ]
  },
  {
   "cell_type": "code",
   "execution_count": 62,
   "id": "4cf16130",
   "metadata": {
    "scrolled": true
   },
   "outputs": [
    {
     "name": "stderr",
     "output_type": "stream",
     "text": [
      "[nltk_data] Downloading package punkt to\n",
      "[nltk_data]     C:\\Users\\subed\\AppData\\Roaming\\nltk_data...\n",
      "[nltk_data]   Unzipping tokenizers\\punkt.zip.\n"
     ]
    }
   ],
   "source": [
    "import pandas as pd\n",
    "import re\n",
    "import nltk\n",
    "import nltk\n",
    "nltk.download('punkt')\n",
    "from nltk.tokenize import word_tokenize, sent_tokenize\n",
    "from nltk.corpus import stopwords\n",
    "from sklearn.feature_extraction.text import TfidfVectorizer\n",
    "from sklearn.metrics.pairwise import cosine_similarity\n",
    "from sumy.parsers.plaintext import PlaintextParser\n",
    "from sumy.summarizers.luhn import LuhnSummarizer\n",
    "from sumy.summarizers.lsa import LsaSummarizer\n",
    "from sumy.nlp.tokenizers import Tokenizer\n",
    "import spacy\n",
    "from spacy.lang.en.stop_words import STOP_WORDS\n",
    "from string import punctuation\n",
    "\n"
   ]
  },
  {
   "cell_type": "code",
   "execution_count": 53,
   "id": "a725aa53",
   "metadata": {},
   "outputs": [],
   "source": [
    "# import pandas as pd\n",
    "df = pd.read_csv('Chat.csv', encoding='Windows-1252')\n",
    "\n"
   ]
  },
  {
   "cell_type": "code",
   "execution_count": 54,
   "id": "cd7c6f5d",
   "metadata": {},
   "outputs": [
    {
     "data": {
      "text/html": [
       "<div>\n",
       "<style scoped>\n",
       "    .dataframe tbody tr th:only-of-type {\n",
       "        vertical-align: middle;\n",
       "    }\n",
       "\n",
       "    .dataframe tbody tr th {\n",
       "        vertical-align: top;\n",
       "    }\n",
       "\n",
       "    .dataframe thead th {\n",
       "        text-align: right;\n",
       "    }\n",
       "</style>\n",
       "<table border=\"1\" class=\"dataframe\">\n",
       "  <thead>\n",
       "    <tr style=\"text-align: right;\">\n",
       "      <th></th>\n",
       "      <th>Question</th>\n",
       "      <th>Answer</th>\n",
       "      <th>Unnamed: 2</th>\n",
       "      <th>Unnamed: 3</th>\n",
       "      <th>Unnamed: 4</th>\n",
       "      <th>Unnamed: 5</th>\n",
       "      <th>Unnamed: 6</th>\n",
       "      <th>Unnamed: 7</th>\n",
       "      <th>Unnamed: 8</th>\n",
       "      <th>Unnamed: 9</th>\n",
       "      <th>...</th>\n",
       "      <th>Unnamed: 86</th>\n",
       "      <th>Unnamed: 87</th>\n",
       "      <th>Unnamed: 88</th>\n",
       "      <th>Unnamed: 89</th>\n",
       "      <th>Unnamed: 90</th>\n",
       "      <th>Unnamed: 91</th>\n",
       "      <th>Unnamed: 92</th>\n",
       "      <th>Unnamed: 93</th>\n",
       "      <th>Unnamed: 94</th>\n",
       "      <th>Answers(411)</th>\n",
       "    </tr>\n",
       "  </thead>\n",
       "  <tbody>\n",
       "    <tr>\n",
       "      <th>0</th>\n",
       "      <td>What are the requirements for voting by absent...</td>\n",
       "      <td>Voters unable to vote in person on Election Da...</td>\n",
       "      <td>NaN</td>\n",
       "      <td>NaN</td>\n",
       "      <td>NaN</td>\n",
       "      <td>NaN</td>\n",
       "      <td>NaN</td>\n",
       "      <td>NaN</td>\n",
       "      <td>NaN</td>\n",
       "      <td>NaN</td>\n",
       "      <td>...</td>\n",
       "      <td>NaN</td>\n",
       "      <td>NaN</td>\n",
       "      <td>NaN</td>\n",
       "      <td>NaN</td>\n",
       "      <td>NaN</td>\n",
       "      <td>NaN</td>\n",
       "      <td>NaN</td>\n",
       "      <td>NaN</td>\n",
       "      <td>NaN</td>\n",
       "      <td>Absentee voting is available if you meet any o...</td>\n",
       "    </tr>\n",
       "    <tr>\n",
       "      <th>1</th>\n",
       "      <td>What is the voter registration deadline?</td>\n",
       "      <td>Primary Election Date is June 7, 2022 (Registe...</td>\n",
       "      <td>NaN</td>\n",
       "      <td>NaN</td>\n",
       "      <td>NaN</td>\n",
       "      <td>NaN</td>\n",
       "      <td>NaN</td>\n",
       "      <td>NaN</td>\n",
       "      <td>NaN</td>\n",
       "      <td>NaN</td>\n",
       "      <td>...</td>\n",
       "      <td>NaN</td>\n",
       "      <td>NaN</td>\n",
       "      <td>NaN</td>\n",
       "      <td>NaN</td>\n",
       "      <td>NaN</td>\n",
       "      <td>NaN</td>\n",
       "      <td>NaN</td>\n",
       "      <td>NaN</td>\n",
       "      <td>NaN</td>\n",
       "      <td>n person registration at the county clerk's of...</td>\n",
       "    </tr>\n",
       "    <tr>\n",
       "      <th>2</th>\n",
       "      <td>Where can I cast my vote?</td>\n",
       "      <td>After registering to vote, your Voter Registra...</td>\n",
       "      <td>NaN</td>\n",
       "      <td>NaN</td>\n",
       "      <td>NaN</td>\n",
       "      <td>NaN</td>\n",
       "      <td>NaN</td>\n",
       "      <td>NaN</td>\n",
       "      <td>NaN</td>\n",
       "      <td>NaN</td>\n",
       "      <td>...</td>\n",
       "      <td>NaN</td>\n",
       "      <td>NaN</td>\n",
       "      <td>NaN</td>\n",
       "      <td>NaN</td>\n",
       "      <td>NaN</td>\n",
       "      <td>NaN</td>\n",
       "      <td>NaN</td>\n",
       "      <td>NaN</td>\n",
       "      <td>NaN</td>\n",
       "      <td>NaN</td>\n",
       "    </tr>\n",
       "    <tr>\n",
       "      <th>3</th>\n",
       "      <td>What are the registration qualifications to vote?</td>\n",
       "      <td>Every U.S. citizen who possesses the following...</td>\n",
       "      <td>NaN</td>\n",
       "      <td>NaN</td>\n",
       "      <td>NaN</td>\n",
       "      <td>NaN</td>\n",
       "      <td>NaN</td>\n",
       "      <td>NaN</td>\n",
       "      <td>NaN</td>\n",
       "      <td>NaN</td>\n",
       "      <td>...</td>\n",
       "      <td>NaN</td>\n",
       "      <td>NaN</td>\n",
       "      <td>NaN</td>\n",
       "      <td>NaN</td>\n",
       "      <td>NaN</td>\n",
       "      <td>NaN</td>\n",
       "      <td>NaN</td>\n",
       "      <td>NaN</td>\n",
       "      <td>NaN</td>\n",
       "      <td>NaN</td>\n",
       "    </tr>\n",
       "    <tr>\n",
       "      <th>4</th>\n",
       "      <td>How to register by mail to vote?</td>\n",
       "      <td>1. Complete a Mail-In Voter Registration Appli...</td>\n",
       "      <td>NaN</td>\n",
       "      <td>NaN</td>\n",
       "      <td>NaN</td>\n",
       "      <td>NaN</td>\n",
       "      <td>NaN</td>\n",
       "      <td>NaN</td>\n",
       "      <td>NaN</td>\n",
       "      <td>NaN</td>\n",
       "      <td>...</td>\n",
       "      <td>NaN</td>\n",
       "      <td>NaN</td>\n",
       "      <td>NaN</td>\n",
       "      <td>NaN</td>\n",
       "      <td>NaN</td>\n",
       "      <td>NaN</td>\n",
       "      <td>NaN</td>\n",
       "      <td>NaN</td>\n",
       "      <td>NaN</td>\n",
       "      <td>NaN</td>\n",
       "    </tr>\n",
       "  </tbody>\n",
       "</table>\n",
       "<p>5 rows × 96 columns</p>\n",
       "</div>"
      ],
      "text/plain": [
       "                                            Question  \\\n",
       "0  What are the requirements for voting by absent...   \n",
       "1           What is the voter registration deadline?   \n",
       "2                          Where can I cast my vote?   \n",
       "3  What are the registration qualifications to vote?   \n",
       "4                   How to register by mail to vote?   \n",
       "\n",
       "                                              Answer  Unnamed: 2  Unnamed: 3  \\\n",
       "0  Voters unable to vote in person on Election Da...         NaN         NaN   \n",
       "1  Primary Election Date is June 7, 2022 (Registe...         NaN         NaN   \n",
       "2  After registering to vote, your Voter Registra...         NaN         NaN   \n",
       "3  Every U.S. citizen who possesses the following...         NaN         NaN   \n",
       "4  1. Complete a Mail-In Voter Registration Appli...         NaN         NaN   \n",
       "\n",
       "   Unnamed: 4  Unnamed: 5  Unnamed: 6  Unnamed: 7  Unnamed: 8  Unnamed: 9  \\\n",
       "0         NaN         NaN         NaN         NaN         NaN         NaN   \n",
       "1         NaN         NaN         NaN         NaN         NaN         NaN   \n",
       "2         NaN         NaN         NaN         NaN         NaN         NaN   \n",
       "3         NaN         NaN         NaN         NaN         NaN         NaN   \n",
       "4         NaN         NaN         NaN         NaN         NaN         NaN   \n",
       "\n",
       "   ...  Unnamed: 86  Unnamed: 87  Unnamed: 88  Unnamed: 89  Unnamed: 90  \\\n",
       "0  ...          NaN          NaN          NaN          NaN          NaN   \n",
       "1  ...          NaN          NaN          NaN          NaN          NaN   \n",
       "2  ...          NaN          NaN          NaN          NaN          NaN   \n",
       "3  ...          NaN          NaN          NaN          NaN          NaN   \n",
       "4  ...          NaN          NaN          NaN          NaN          NaN   \n",
       "\n",
       "   Unnamed: 91  Unnamed: 92  Unnamed: 93  Unnamed: 94  \\\n",
       "0          NaN          NaN          NaN          NaN   \n",
       "1          NaN          NaN          NaN          NaN   \n",
       "2          NaN          NaN          NaN          NaN   \n",
       "3          NaN          NaN          NaN          NaN   \n",
       "4          NaN          NaN          NaN          NaN   \n",
       "\n",
       "                                        Answers(411)  \n",
       "0  Absentee voting is available if you meet any o...  \n",
       "1  n person registration at the county clerk's of...  \n",
       "2                                                NaN  \n",
       "3                                                NaN  \n",
       "4                                                NaN  \n",
       "\n",
       "[5 rows x 96 columns]"
      ]
     },
     "execution_count": 54,
     "metadata": {},
     "output_type": "execute_result"
    }
   ],
   "source": [
    "df.head()"
   ]
  },
  {
   "cell_type": "code",
   "execution_count": 55,
   "id": "8825df56",
   "metadata": {},
   "outputs": [],
   "source": [
    "# Select columns that have a name\n",
    "df = df.loc[:, ~df.columns.str.contains('^Unnamed')]\n",
    "\n",
    "# Remove columns that have only NaN values\n",
    "df = df.dropna(axis=1, how='all')"
   ]
  },
  {
   "cell_type": "code",
   "execution_count": 56,
   "id": "2541deb6",
   "metadata": {},
   "outputs": [
    {
     "data": {
      "text/html": [
       "<div>\n",
       "<style scoped>\n",
       "    .dataframe tbody tr th:only-of-type {\n",
       "        vertical-align: middle;\n",
       "    }\n",
       "\n",
       "    .dataframe tbody tr th {\n",
       "        vertical-align: top;\n",
       "    }\n",
       "\n",
       "    .dataframe thead th {\n",
       "        text-align: right;\n",
       "    }\n",
       "</style>\n",
       "<table border=\"1\" class=\"dataframe\">\n",
       "  <thead>\n",
       "    <tr style=\"text-align: right;\">\n",
       "      <th></th>\n",
       "      <th>Question</th>\n",
       "      <th>Answer</th>\n",
       "      <th>Answers(411)</th>\n",
       "    </tr>\n",
       "  </thead>\n",
       "  <tbody>\n",
       "    <tr>\n",
       "      <th>0</th>\n",
       "      <td>What are the requirements for voting by absent...</td>\n",
       "      <td>Voters unable to vote in person on Election Da...</td>\n",
       "      <td>Absentee voting is available if you meet any o...</td>\n",
       "    </tr>\n",
       "    <tr>\n",
       "      <th>1</th>\n",
       "      <td>What is the voter registration deadline?</td>\n",
       "      <td>Primary Election Date is June 7, 2022 (Registe...</td>\n",
       "      <td>n person registration at the county clerk's of...</td>\n",
       "    </tr>\n",
       "    <tr>\n",
       "      <th>2</th>\n",
       "      <td>Where can I cast my vote?</td>\n",
       "      <td>After registering to vote, your Voter Registra...</td>\n",
       "      <td>NaN</td>\n",
       "    </tr>\n",
       "    <tr>\n",
       "      <th>3</th>\n",
       "      <td>What are the registration qualifications to vote?</td>\n",
       "      <td>Every U.S. citizen who possesses the following...</td>\n",
       "      <td>NaN</td>\n",
       "    </tr>\n",
       "    <tr>\n",
       "      <th>4</th>\n",
       "      <td>How to register by mail to vote?</td>\n",
       "      <td>1. Complete a Mail-In Voter Registration Appli...</td>\n",
       "      <td>NaN</td>\n",
       "    </tr>\n",
       "  </tbody>\n",
       "</table>\n",
       "</div>"
      ],
      "text/plain": [
       "                                            Question  \\\n",
       "0  What are the requirements for voting by absent...   \n",
       "1           What is the voter registration deadline?   \n",
       "2                          Where can I cast my vote?   \n",
       "3  What are the registration qualifications to vote?   \n",
       "4                   How to register by mail to vote?   \n",
       "\n",
       "                                              Answer  \\\n",
       "0  Voters unable to vote in person on Election Da...   \n",
       "1  Primary Election Date is June 7, 2022 (Registe...   \n",
       "2  After registering to vote, your Voter Registra...   \n",
       "3  Every U.S. citizen who possesses the following...   \n",
       "4  1. Complete a Mail-In Voter Registration Appli...   \n",
       "\n",
       "                                        Answers(411)  \n",
       "0  Absentee voting is available if you meet any o...  \n",
       "1  n person registration at the county clerk's of...  \n",
       "2                                                NaN  \n",
       "3                                                NaN  \n",
       "4                                                NaN  "
      ]
     },
     "execution_count": 56,
     "metadata": {},
     "output_type": "execute_result"
    }
   ],
   "source": [
    "df.head()"
   ]
  },
  {
   "cell_type": "code",
   "execution_count": 57,
   "id": "d4ac830b",
   "metadata": {},
   "outputs": [],
   "source": [
    "def preprocess_text(text):\n",
    "    # Loading spaCy model\n",
    "    nlp = spacy.load('en_core_web_sm')\n",
    "\n",
    "    # Check if text is a string\n",
    "    if isinstance(text, str):\n",
    "        # Converting text to lowercase\n",
    "        text = text.lower()\n",
    "\n",
    "        # Removing extra whitespaces\n",
    "        text = ' '.join(text.split())\n",
    "\n",
    "        # Removing punctuation\n",
    "        text = re.sub(r'[^\\w\\s]', '', text)\n",
    "\n",
    "        # Lemmatization\n",
    "        doc = nlp(text)\n",
    "        text = ' '.join([token.lemma_ for token in doc])\n",
    "\n",
    "    return text\n"
   ]
  },
  {
   "cell_type": "code",
   "execution_count": 58,
   "id": "7ddf06f9",
   "metadata": {},
   "outputs": [],
   "source": [
    "# Preprocessing text data\n",
    "df['preprocessed_text'] = df['Answer'].apply(preprocess_text)\n"
   ]
  },
  {
   "cell_type": "code",
   "execution_count": 59,
   "id": "834866d3",
   "metadata": {},
   "outputs": [],
   "source": [
    "df['preprocessed_text'] = df['preprocessed_text'].astype(str)\n"
   ]
  },
  {
   "cell_type": "code",
   "execution_count": 60,
   "id": "1da99840",
   "metadata": {},
   "outputs": [],
   "source": [
    "# Saving preprocessed data as a new CSV file\n",
    "df.to_csv('preprocessed_file.csv', index=False)"
   ]
  },
  {
   "cell_type": "markdown",
   "id": "b72bc7ca",
   "metadata": {},
   "source": [
    "## NLP Analysis"
   ]
  },
  {
   "cell_type": "code",
   "execution_count": 45,
   "id": "40dd459f",
   "metadata": {},
   "outputs": [
    {
     "name": "stdout",
     "output_type": "stream",
     "text": [
      "Requirement already satisfied: gensim in c:\\users\\subed\\anaconda3\\lib\\site-packages (4.1.2)\n",
      "Requirement already satisfied: smart-open>=1.8.1 in c:\\users\\subed\\anaconda3\\lib\\site-packages (from gensim) (5.2.1)\n",
      "Requirement already satisfied: numpy>=1.17.0 in c:\\users\\subed\\anaconda3\\lib\\site-packages (from gensim) (1.21.5)\n",
      "Requirement already satisfied: scipy>=0.18.1 in c:\\users\\subed\\anaconda3\\lib\\site-packages (from gensim) (1.9.1)\n"
     ]
    }
   ],
   "source": [
    "!pip install gensim\n"
   ]
  },
  {
   "cell_type": "code",
   "execution_count": 46,
   "id": "510fb883",
   "metadata": {},
   "outputs": [
    {
     "ename": "ModuleNotFoundError",
     "evalue": "No module named 'gensim.summarization'",
     "output_type": "error",
     "traceback": [
      "\u001b[1;31m---------------------------------------------------------------------------\u001b[0m",
      "\u001b[1;31mModuleNotFoundError\u001b[0m                       Traceback (most recent call last)",
      "\u001b[1;32m~\\AppData\\Local\\Temp\\ipykernel_9868\\2278733902.py\u001b[0m in \u001b[0;36m<module>\u001b[1;34m\u001b[0m\n\u001b[1;32m----> 1\u001b[1;33m \u001b[1;32mfrom\u001b[0m \u001b[0mgensim\u001b[0m\u001b[1;33m.\u001b[0m\u001b[0msummarization\u001b[0m \u001b[1;32mimport\u001b[0m \u001b[0msummarize\u001b[0m\u001b[1;33m\u001b[0m\u001b[1;33m\u001b[0m\u001b[0m\n\u001b[0m",
      "\u001b[1;31mModuleNotFoundError\u001b[0m: No module named 'gensim.summarization'"
     ]
    }
   ],
   "source": [
    "from gensim.summarization import summarize"
   ]
  },
  {
   "cell_type": "code",
   "execution_count": 75,
   "id": "48972e1b",
   "metadata": {},
   "outputs": [
    {
     "name": "stdout",
     "output_type": "stream",
     "text": [
      "voter unable to vote in person on election day may be eligible to vote by absentee ballot most absentee voter must appear before the circuit clerk or municipal clerk and absentee vote in person a few category of absentee voter may request a mail ballot voter who be require to be at work while the polling place be open on election day or will be out of town must absentee vote in person absentee voter who be 65 or old have a permanent or temporary physical disability or be temporarily reside outside their county of residence may absentee vote by mail please check with your circuit or municipal clerk to determine if you be entitle to vote by an absentee ballot and to learn the procedure for do so if you know you will vote by absentee ballot you may visit or contact your circuit or municipal clerkâs office within 45 day of the election voter include within the uniform and overseas citizen absentee voting act uocava such as member of the military and overseas citizen may register to vote and request an absentee ballot by federal post card application fpca uocava voter may register to vote use the fpca until ten day before an election and may receive and return an absentee ballot by mail email or fax absentee ballot be now final vote if you cast an absentee ballot you may no long cast a regular ballot on election day but you may cast an affidavit ballot if you know you will vote by absentee ballot you may visit or contact your circuit or municipal clerkâs office within 45 day of the election for more information call the secretary of stateâs election hotline at 18008296786 or visit our website at wwwyallvotem primary election date be june 7 2022 register by may 9 2022 general election date be november 8 2022 registter by october 10 2022 after register to vote your voter registration card will be send to your residencemailing address provide on your application your voter registration card will provide the name location and a number of the precinct in which you will vote poll be open each election day from 7 am to 7 pm you may contact your circuit clerk office for more information every us citizen who possess the follow qualification be eligible to register to vote in mississippi â a resident of mississippi and the county city or town for 30 day before the election â at least 18 year old or will be 18 by the date of the next general election â not declare mentally incompetent by a court and â not convict of a disenfranchise crime as define by section 241 of the mississippi constitution or by attorney general opinion unless pardon right of citizenship restore by the governor or suffrage right restore by the legislature 1 complete a mailin voter registration application provide the information request include your driverâs license number andor the last four digit of your social security number if you do not provide your driverâs license number or the last four digit of your social security number you must send with your application â a copy of a current and valid photo i d or â a copy of a current utility bill bank statement government check paycheck or other government document that show your name and address 2 send your mailin voter registration application to the circuit clerkâs office locate in the county of your residence 3 application must be postmark 30 day before the date of the election if the 30th day fall on a sunday or legal holiday then both the postmark and the inperson deadline be extend to the next regular business day mailin registration application be available at your circuit clerkâs office municipal clerkâs office public library and other participate government office also mailin registration application may be download from our website at wwwyallvotem 1 you may register to vote in person at any of the follow location â circuit clerkâs office â municipal clerkâs office â department of public safety or â any state or federal agency offer government service such as the department of human service 2 you must register to vote 30 day before the date of the election if the 30th day fall on a sunday or legal holiday then both the postmark and inperson deadline be extend to the next regular business day all mississippi voter cast a ballot in person at the poll or cast an absentee ballot in the circuit or municipal clerkâs office must present one of the follow form of acceptable photo i d â a driverâs license â a governmentissue photo i d card â a united states passport â a government employee photo identification card â a firearm license â a student photo i d issue by an accredited mississippi university college or communityjunior college â a united states military photo i d â a tribal photo i d â any other photo I d issue by any branch department agency or entity of the united states government or any state government or â a mississippi voter identification card if you do not present an acceptable form of photo i d or be unable to do so because of a religious objection you be entitle to cast an affidavit ballot a voter cast an affidavit ballot because he she do not present an acceptable form of photo i d base upon a religious objection may not have hisher ballot reject for this reason if heshe complete an affidavit of religious objection in the circuit or municipal clerkâs office within five business day after election day a voter cast an affidavit ballot because he she do not present an acceptable form of photo I d may not have hisher ballot reject for this reason if heshe present an acceptable form of photo i d in the circuit or municipal clerkâs office within five business day after election day 1 every qualified mississippi elector be entitle to vote regardless of race creed color or disability 2 no one may refuse a person the right to vote if that person be legally entitle to vote 3 no voter shall be threatened intimidate or pay to vote by any person 4 voter whose name do not appear on the poll book or who do not have an acceptable form of photo i d be entitle to vote by affidavit ballot 5 voter who cast an affidavit ballot be entitle to receive write information at the time of voting on how to determine if the vote be count and if not why not 6 voter who require assistance in mark the ballot because of disability blindness or an inability to read or write be entitle to receive assistance from a person of the voterâs choice exclude a candidate whose name be on the ballot or the spouse parent sibling or child of a candidate whose name be on the ballot or by a poll watcher who be observe in the polling place on election day or the voterâs employer or agent of that employer or officer or agent of the voterâs union unless however a candidate for office or the spouse parent or child of a candidate be relate within the first degree to the voter request assistance verify if you be an active register voter online at wwwyallvotem to update your name and address registration information online you must already be a registered voter of the state of mississippi and have a current and valid mississippi driverâs license or photo identification card issue by the mississippi department of public safety update your voter registration information in five easy step 1 enter your information exactly as it appear on your current voter registration card 2 choose your name out of the four possibility list 3 enter your information exactly as it appear on your driverâs license or other dps identification card 4 change your address or name 5 visit the polling place locator before or on election day to determine where you should go to cast your ballot the uniformed and overseas citizen absentee voting act uocava provide for certain provision to assist voter in these category to receive and return their absentee ballot in time to be count on election day uocava voter   please contact your circuit clerk to request an absentee ballot for any upcoming special election your county may be have this year contact information for county circuit clerk be available at   httpswwwsosmsgovelectionsvotingcountyelectioninformation contact our office if you have any question about upcoming election   uocavasosmsgov 18008296786 refer to the list of clerk contact information   httpswwwsosmsgovelectionsvotingcountyelectioninformation nan nan nan nan nan nan nan nan nan nan nan nan nan nan nan nan nan\n"
     ]
    }
   ],
   "source": [
    "# Load the preprocessed data into a string\n",
    "text = ' '.join(df['preprocessed_text'].tolist())\n",
    "\n",
    "# Set the summarizer algorithm\n",
    "summarizer = LsaSummarizer()\n",
    "\n",
    "# Set the number of sentences to include in the summary\n",
    "num_sentences = 1\n",
    "\n",
    "# Parse the text document\n",
    "parser = PlaintextParser.from_string(text, Tokenizer('english'))\n",
    "\n",
    "# Generate the summary\n",
    "summary = summarizer(parser.document, num_sentences)\n",
    "\n",
    "# Print the summary\n",
    "print(summary[0])\n"
   ]
  },
  {
   "cell_type": "code",
   "execution_count": 76,
   "id": "9c5324c0",
   "metadata": {},
   "outputs": [],
   "source": [
    "# Initialize summarizer\n",
    "summarizer = LsaSummarizer()\n",
    "\n",
    "# Initialize tokenizer\n",
    "tokenizer = Tokenizer(\"english\")\n",
    "\n",
    "# Loop over each row in the dataframe and summarize the text\n",
    "for index, row in df.iterrows():\n",
    "    text = row['preprocessed_text']\n",
    "    parser = PlaintextParser.from_string(text, tokenizer)\n",
    "    summary = summarizer(parser.document, 1) # 3 is the number of sentences to summarize to\n",
    "    df.at[index, 'summary'] = ' '.join([str(sentence) for sentence in summary])"
   ]
  },
  {
   "cell_type": "code",
   "execution_count": 77,
   "id": "cefd8598",
   "metadata": {},
   "outputs": [
    {
     "data": {
      "text/html": [
       "<div>\n",
       "<style scoped>\n",
       "    .dataframe tbody tr th:only-of-type {\n",
       "        vertical-align: middle;\n",
       "    }\n",
       "\n",
       "    .dataframe tbody tr th {\n",
       "        vertical-align: top;\n",
       "    }\n",
       "\n",
       "    .dataframe thead th {\n",
       "        text-align: right;\n",
       "    }\n",
       "</style>\n",
       "<table border=\"1\" class=\"dataframe\">\n",
       "  <thead>\n",
       "    <tr style=\"text-align: right;\">\n",
       "      <th></th>\n",
       "      <th>Question</th>\n",
       "      <th>Answer</th>\n",
       "      <th>Answers(411)</th>\n",
       "      <th>preprocessed_text</th>\n",
       "      <th>summary</th>\n",
       "    </tr>\n",
       "  </thead>\n",
       "  <tbody>\n",
       "    <tr>\n",
       "      <th>0</th>\n",
       "      <td>What are the requirements for voting by absent...</td>\n",
       "      <td>Voters unable to vote in person on Election Da...</td>\n",
       "      <td>Absentee voting is available if you meet any o...</td>\n",
       "      <td>voter unable to vote in person on election day...</td>\n",
       "      <td>voter unable to vote in person on election day...</td>\n",
       "    </tr>\n",
       "    <tr>\n",
       "      <th>1</th>\n",
       "      <td>What is the voter registration deadline?</td>\n",
       "      <td>Primary Election Date is June 7, 2022 (Registe...</td>\n",
       "      <td>n person registration at the county clerk's of...</td>\n",
       "      <td>primary election date be june 7 2022 register ...</td>\n",
       "      <td>primary election date be june 7 2022 register ...</td>\n",
       "    </tr>\n",
       "    <tr>\n",
       "      <th>2</th>\n",
       "      <td>Where can I cast my vote?</td>\n",
       "      <td>After registering to vote, your Voter Registra...</td>\n",
       "      <td>NaN</td>\n",
       "      <td>after register to vote your voter registration...</td>\n",
       "      <td>after register to vote your voter registration...</td>\n",
       "    </tr>\n",
       "    <tr>\n",
       "      <th>3</th>\n",
       "      <td>What are the registration qualifications to vote?</td>\n",
       "      <td>Every U.S. citizen who possesses the following...</td>\n",
       "      <td>NaN</td>\n",
       "      <td>every us citizen who possess the follow qualif...</td>\n",
       "      <td>every us citizen who possess the follow qualif...</td>\n",
       "    </tr>\n",
       "    <tr>\n",
       "      <th>4</th>\n",
       "      <td>How to register by mail to vote?</td>\n",
       "      <td>1. Complete a Mail-In Voter Registration Appli...</td>\n",
       "      <td>NaN</td>\n",
       "      <td>1 complete a mailin voter registration applica...</td>\n",
       "      <td>1 complete a mailin voter registration applica...</td>\n",
       "    </tr>\n",
       "  </tbody>\n",
       "</table>\n",
       "</div>"
      ],
      "text/plain": [
       "                                            Question  \\\n",
       "0  What are the requirements for voting by absent...   \n",
       "1           What is the voter registration deadline?   \n",
       "2                          Where can I cast my vote?   \n",
       "3  What are the registration qualifications to vote?   \n",
       "4                   How to register by mail to vote?   \n",
       "\n",
       "                                              Answer  \\\n",
       "0  Voters unable to vote in person on Election Da...   \n",
       "1  Primary Election Date is June 7, 2022 (Registe...   \n",
       "2  After registering to vote, your Voter Registra...   \n",
       "3  Every U.S. citizen who possesses the following...   \n",
       "4  1. Complete a Mail-In Voter Registration Appli...   \n",
       "\n",
       "                                        Answers(411)  \\\n",
       "0  Absentee voting is available if you meet any o...   \n",
       "1  n person registration at the county clerk's of...   \n",
       "2                                                NaN   \n",
       "3                                                NaN   \n",
       "4                                                NaN   \n",
       "\n",
       "                                   preprocessed_text  \\\n",
       "0  voter unable to vote in person on election day...   \n",
       "1  primary election date be june 7 2022 register ...   \n",
       "2  after register to vote your voter registration...   \n",
       "3  every us citizen who possess the follow qualif...   \n",
       "4  1 complete a mailin voter registration applica...   \n",
       "\n",
       "                                             summary  \n",
       "0  voter unable to vote in person on election day...  \n",
       "1  primary election date be june 7 2022 register ...  \n",
       "2  after register to vote your voter registration...  \n",
       "3  every us citizen who possess the follow qualif...  \n",
       "4  1 complete a mailin voter registration applica...  "
      ]
     },
     "execution_count": 77,
     "metadata": {},
     "output_type": "execute_result"
    }
   ],
   "source": [
    "df.head()"
   ]
  },
  {
   "cell_type": "code",
   "execution_count": 72,
   "id": "a64cfea3",
   "metadata": {},
   "outputs": [
    {
     "data": {
      "text/plain": [
       "'voter unable to vote in person on election day may be eligible to vote by absentee ballot most absentee voter must appear before the circuit clerk or municipal clerk and absentee vote in person a few category of absentee voter may request a mail ballot voter who be require to be at work while the polling place be open on election day or will be out of town must absentee vote in person absentee voter who be 65 or old have a permanent or temporary physical disability or be temporarily reside outside their county of residence may absentee vote by mail please check with your circuit or municipal clerk to determine if you be entitle to vote by an absentee ballot and to learn the procedure for do so if you know you will vote by absentee ballot you may visit or contact your circuit or municipal clerkâs office within 45 day of the election voter include within the uniform and overseas citizen absentee voting act uocava such as member of the military and overseas citizen may register to vote and request an absentee ballot by federal post card application fpca uocava voter may register to vote use the fpca until ten day before an election and may receive and return an absentee ballot by mail email or fax absentee ballot be now final vote if you cast an absentee ballot you may no long cast a regular ballot on election day but you may cast an affidavit ballot if you know you will vote by absentee ballot you may visit or contact your circuit or municipal clerkâs office within 45 day of the election for more information call the secretary of stateâs election hotline at 18008296786 or visit our website at wwwyallvotem'"
      ]
     },
     "execution_count": 72,
     "metadata": {},
     "output_type": "execute_result"
    }
   ],
   "source": [
    "df['summary'][0]"
   ]
  },
  {
   "cell_type": "code",
   "execution_count": 73,
   "id": "70046286",
   "metadata": {},
   "outputs": [
    {
     "data": {
      "text/plain": [
       "'voter unable to vote in person on election day may be eligible to vote by absentee ballot most absentee voter must appear before the circuit clerk or municipal clerk and absentee vote in person a few category of absentee voter may request a mail ballot voter who be require to be at work while the polling place be open on election day or will be out of town must absentee vote in person absentee voter who be 65 or old have a permanent or temporary physical disability or be temporarily reside outside their county of residence may absentee vote by mail please check with your circuit or municipal clerk to determine if you be entitle to vote by an absentee ballot and to learn the procedure for do so if you know you will vote by absentee ballot you may visit or contact your circuit or municipal clerkâs office within 45 day of the election voter include within the uniform and overseas citizen absentee voting act uocava such as member of the military and overseas citizen may register to vote and request an absentee ballot by federal post card application fpca uocava voter may register to vote use the fpca until ten day before an election and may receive and return an absentee ballot by mail email or fax absentee ballot be now final vote if you cast an absentee ballot you may no long cast a regular ballot on election day but you may cast an affidavit ballot if you know you will vote by absentee ballot you may visit or contact your circuit or municipal clerkâs office within 45 day of the election for more information call the secretary of stateâs election hotline at 18008296786 or visit our website at wwwyallvotem'"
      ]
     },
     "execution_count": 73,
     "metadata": {},
     "output_type": "execute_result"
    }
   ],
   "source": [
    "df['preprocessed_text'][0]"
   ]
  },
  {
   "cell_type": "code",
   "execution_count": 74,
   "id": "bf2ad3ff",
   "metadata": {},
   "outputs": [
    {
     "name": "stdout",
     "output_type": "stream",
     "text": [
      "Row 0: Identical\n",
      "Row 1: Identical\n",
      "Row 2: Identical\n",
      "Row 3: Identical\n",
      "Row 4: Identical\n",
      "Row 5: Identical\n",
      "Row 6: Identical\n",
      "Row 7: Identical\n",
      "Row 8: Identical\n",
      "Row 9: Identical\n",
      "Row 10: Identical\n",
      "Row 11: Identical\n",
      "Row 12: Identical\n",
      "Row 13: Identical\n",
      "Row 14: Identical\n",
      "Row 15: Identical\n",
      "Row 16: Identical\n",
      "Row 17: Identical\n",
      "Row 18: Identical\n",
      "Row 19: Identical\n",
      "Row 20: Identical\n",
      "Row 21: Identical\n",
      "Row 22: Identical\n",
      "Row 23: Identical\n",
      "Row 24: Identical\n",
      "Row 25: Identical\n",
      "Row 26: Identical\n",
      "Row 27: Identical\n",
      "Row 28: Identical\n"
     ]
    }
   ],
   "source": [
    "# Iterate over each row\n",
    "for index, row in df.iterrows():\n",
    "    # Check if the preprocessed_text and summary columns are identical\n",
    "    if row['preprocessed_text'] == row['summary']:\n",
    "        print(f\"Row {index}: Identical\")\n",
    "    else:\n",
    "        print(f\"Row {index}: Different\")\n"
   ]
  },
  {
   "cell_type": "code",
   "execution_count": null,
   "id": "1ee979b2",
   "metadata": {},
   "outputs": [],
   "source": []
  }
 ],
 "metadata": {
  "kernelspec": {
   "display_name": "Python 3 (ipykernel)",
   "language": "python",
   "name": "python3"
  },
  "language_info": {
   "codemirror_mode": {
    "name": "ipython",
    "version": 3
   },
   "file_extension": ".py",
   "mimetype": "text/x-python",
   "name": "python",
   "nbconvert_exporter": "python",
   "pygments_lexer": "ipython3",
   "version": "3.9.13"
  }
 },
 "nbformat": 4,
 "nbformat_minor": 5
}
